{
 "cells": [
  {
   "cell_type": "markdown",
   "metadata": {},
   "source": [
    "## Creating A Chatbot"
   ]
  },
  {
   "cell_type": "markdown",
   "metadata": {},
   "source": [
    "The idea behind creating this chatbot was that I wanted to use the given data and try to build a model using it which could be usefully applied to a CRM firm.\n",
    "\n",
    "The given data has a lot of questions with unique question IDs and about 3-5 options for every question. Every question has one or more answer labelled as correct.\n",
    "\n",
    "My intution was that at a CRM firm we would be able to collect similar content from customer complaint or assistance tickets. We can then feed that data to a NLP algorithm which would return old questions along with the correct answer when it is asked a similar question again.\n",
    "\n",
    "Such a feature could be integrated with an Answer Bot service provided by CRM firms and give suggestion to webpages and links to help solve customer queries. \n",
    "\n",
    "I hope you like it!"
   ]
  },
  {
   "cell_type": "code",
   "execution_count": 1,
   "metadata": {},
   "outputs": [],
   "source": [
    "from nltk.chat.util import Chat, reflections\n",
    "import pandas as pd\n",
    "import csv\n",
    "import nltk\n",
    "import numpy as np\n",
    "import random\n",
    "import string"
   ]
  },
  {
   "cell_type": "code",
   "execution_count": 2,
   "metadata": {},
   "outputs": [],
   "source": [
    "from sklearn.feature_extraction.text import TfidfVectorizer\n",
    "from sklearn.metrics.pairwise import cosine_similarity"
   ]
  },
  {
   "cell_type": "markdown",
   "metadata": {},
   "source": [
    "### Getting data from tsv file"
   ]
  },
  {
   "cell_type": "code",
   "execution_count": 3,
   "metadata": {},
   "outputs": [],
   "source": [
    "df = pd.DataFrame(columns = ['QuestionID', 'Question', 'DocumentID', 'DocumentTitle', 'SentenceID', 'Sentence', 'Label'])\n",
    "\n",
    "with open('challenge.tsv') as tsvfile:\n",
    "#     count = 0\n",
    "    reader = csv.reader(tsvfile, delimiter='\\t')\n",
    "    \n",
    "    for row in reader:\n",
    "#         df = df.append(row)\n",
    "#         print(row)\n",
    "        df = df.append({'QuestionID': row[0], 'Question': row[1], 'DocumentID': row[2] , 'DocumentTitle': row[3], 'SentenceID': row[4], 'Sentence': row[5], 'Label': row[6]}, ignore_index = True)\n",
    "#         count += 1\n",
    "#         if count == 10:\n",
    "#             break"
   ]
  },
  {
   "cell_type": "code",
   "execution_count": 4,
   "metadata": {},
   "outputs": [],
   "source": [
    "df = df[1:]"
   ]
  },
  {
   "cell_type": "code",
   "execution_count": 5,
   "metadata": {},
   "outputs": [
    {
     "data": {
      "text/html": [
       "<div>\n",
       "<style scoped>\n",
       "    .dataframe tbody tr th:only-of-type {\n",
       "        vertical-align: middle;\n",
       "    }\n",
       "\n",
       "    .dataframe tbody tr th {\n",
       "        vertical-align: top;\n",
       "    }\n",
       "\n",
       "    .dataframe thead th {\n",
       "        text-align: right;\n",
       "    }\n",
       "</style>\n",
       "<table border=\"1\" class=\"dataframe\">\n",
       "  <thead>\n",
       "    <tr style=\"text-align: right;\">\n",
       "      <th></th>\n",
       "      <th>QuestionID</th>\n",
       "      <th>Question</th>\n",
       "      <th>DocumentID</th>\n",
       "      <th>DocumentTitle</th>\n",
       "      <th>SentenceID</th>\n",
       "      <th>Sentence</th>\n",
       "      <th>Label</th>\n",
       "    </tr>\n",
       "  </thead>\n",
       "  <tbody>\n",
       "    <tr>\n",
       "      <th>20333</th>\n",
       "      <td>Q3042</td>\n",
       "      <td>When was Apple Computer founded</td>\n",
       "      <td>D2806</td>\n",
       "      <td>Apple Inc.</td>\n",
       "      <td>D2806-10</td>\n",
       "      <td>, the company had 72,800 permanent full-time e...</td>\n",
       "      <td>0</td>\n",
       "    </tr>\n",
       "    <tr>\n",
       "      <th>20334</th>\n",
       "      <td>Q3042</td>\n",
       "      <td>When was Apple Computer founded</td>\n",
       "      <td>D2806</td>\n",
       "      <td>Apple Inc.</td>\n",
       "      <td>D2806-11</td>\n",
       "      <td>Its worldwide annual revenue in 2012 totalled ...</td>\n",
       "      <td>0</td>\n",
       "    </tr>\n",
       "    <tr>\n",
       "      <th>20335</th>\n",
       "      <td>Q3043</td>\n",
       "      <td>what is section eight housing</td>\n",
       "      <td>D2807</td>\n",
       "      <td>Section 8 (housing)</td>\n",
       "      <td>D2807-0</td>\n",
       "      <td>Section 8 housing in the South Bronx</td>\n",
       "      <td>0</td>\n",
       "    </tr>\n",
       "    <tr>\n",
       "      <th>20336</th>\n",
       "      <td>Q3043</td>\n",
       "      <td>what is section eight housing</td>\n",
       "      <td>D2807</td>\n",
       "      <td>Section 8 (housing)</td>\n",
       "      <td>D2807-1</td>\n",
       "      <td>Section 8 of the Housing Act of 1937 (), often...</td>\n",
       "      <td>1</td>\n",
       "    </tr>\n",
       "    <tr>\n",
       "      <th>20337</th>\n",
       "      <td>Q3043</td>\n",
       "      <td>what is section eight housing</td>\n",
       "      <td>D2807</td>\n",
       "      <td>Section 8 (housing)</td>\n",
       "      <td>D2807-2</td>\n",
       "      <td>It operates through several programs, the larg...</td>\n",
       "      <td>1</td>\n",
       "    </tr>\n",
       "    <tr>\n",
       "      <th>20338</th>\n",
       "      <td>Q3043</td>\n",
       "      <td>what is section eight housing</td>\n",
       "      <td>D2807</td>\n",
       "      <td>Section 8 (housing)</td>\n",
       "      <td>D2807-3</td>\n",
       "      <td>The US Department of Housing and Urban Develop...</td>\n",
       "      <td>0</td>\n",
       "    </tr>\n",
       "    <tr>\n",
       "      <th>20339</th>\n",
       "      <td>Q3043</td>\n",
       "      <td>what is section eight housing</td>\n",
       "      <td>D2807</td>\n",
       "      <td>Section 8 (housing)</td>\n",
       "      <td>D2807-4</td>\n",
       "      <td>The Housing Choice Voucher Program provides \"t...</td>\n",
       "      <td>0</td>\n",
       "    </tr>\n",
       "    <tr>\n",
       "      <th>20340</th>\n",
       "      <td>Q3043</td>\n",
       "      <td>what is section eight housing</td>\n",
       "      <td>D2807</td>\n",
       "      <td>Section 8 (housing)</td>\n",
       "      <td>D2807-5</td>\n",
       "      <td>It also allows individuals to apply their mont...</td>\n",
       "      <td>0</td>\n",
       "    </tr>\n",
       "    <tr>\n",
       "      <th>20341</th>\n",
       "      <td>Q3043</td>\n",
       "      <td>what is section eight housing</td>\n",
       "      <td>D2807</td>\n",
       "      <td>Section 8 (housing)</td>\n",
       "      <td>D2807-6</td>\n",
       "      <td>The maximum allowed voucher is $2200 a month.</td>\n",
       "      <td>0</td>\n",
       "    </tr>\n",
       "    <tr>\n",
       "      <th>20342</th>\n",
       "      <td>Q3043</td>\n",
       "      <td>what is section eight housing</td>\n",
       "      <td>D2807</td>\n",
       "      <td>Section 8 (housing)</td>\n",
       "      <td>D2807-7</td>\n",
       "      <td>Section 8 also authorizes a variety of \"projec...</td>\n",
       "      <td>0</td>\n",
       "    </tr>\n",
       "    <tr>\n",
       "      <th>20343</th>\n",
       "      <td>Q3043</td>\n",
       "      <td>what is section eight housing</td>\n",
       "      <td>D2807</td>\n",
       "      <td>Section 8 (housing)</td>\n",
       "      <td>D2807-8</td>\n",
       "      <td>A tenant who leaves a subsidized project will ...</td>\n",
       "      <td>0</td>\n",
       "    </tr>\n",
       "    <tr>\n",
       "      <th>20344</th>\n",
       "      <td>Q3043</td>\n",
       "      <td>what is section eight housing</td>\n",
       "      <td>D2807</td>\n",
       "      <td>Section 8 (housing)</td>\n",
       "      <td>D2807-9</td>\n",
       "      <td>The United States Department of Housing and Ur...</td>\n",
       "      <td>0</td>\n",
       "    </tr>\n",
       "    <tr>\n",
       "      <th>20345</th>\n",
       "      <td>Q3044</td>\n",
       "      <td>what is the main type of restaurant</td>\n",
       "      <td>D2808</td>\n",
       "      <td>Category:Types of restaurants</td>\n",
       "      <td>D2808-0</td>\n",
       "      <td>Restaurants categorized by type and informatio...</td>\n",
       "      <td>0</td>\n",
       "    </tr>\n",
       "    <tr>\n",
       "      <th>20346</th>\n",
       "      <td>Q3046</td>\n",
       "      <td>what is us dollar worth based on</td>\n",
       "      <td>D2810</td>\n",
       "      <td>History of the United States dollar</td>\n",
       "      <td>D2810-0</td>\n",
       "      <td>U.S. Federal Reserve notes in the mid-1990s</td>\n",
       "      <td>0</td>\n",
       "    </tr>\n",
       "    <tr>\n",
       "      <th>20347</th>\n",
       "      <td>Q3046</td>\n",
       "      <td>what is us dollar worth based on</td>\n",
       "      <td>D2810</td>\n",
       "      <td>History of the United States dollar</td>\n",
       "      <td>D2810-1</td>\n",
       "      <td>The history of the United States dollar covers...</td>\n",
       "      <td>0</td>\n",
       "    </tr>\n",
       "  </tbody>\n",
       "</table>\n",
       "</div>"
      ],
      "text/plain": [
       "      QuestionID                             Question DocumentID  \\\n",
       "20333      Q3042      When was Apple Computer founded      D2806   \n",
       "20334      Q3042      When was Apple Computer founded      D2806   \n",
       "20335      Q3043        what is section eight housing      D2807   \n",
       "20336      Q3043        what is section eight housing      D2807   \n",
       "20337      Q3043        what is section eight housing      D2807   \n",
       "20338      Q3043        what is section eight housing      D2807   \n",
       "20339      Q3043        what is section eight housing      D2807   \n",
       "20340      Q3043        what is section eight housing      D2807   \n",
       "20341      Q3043        what is section eight housing      D2807   \n",
       "20342      Q3043        what is section eight housing      D2807   \n",
       "20343      Q3043        what is section eight housing      D2807   \n",
       "20344      Q3043        what is section eight housing      D2807   \n",
       "20345      Q3044  what is the main type of restaurant      D2808   \n",
       "20346      Q3046     what is us dollar worth based on      D2810   \n",
       "20347      Q3046     what is us dollar worth based on      D2810   \n",
       "\n",
       "                             DocumentTitle SentenceID  \\\n",
       "20333                           Apple Inc.   D2806-10   \n",
       "20334                           Apple Inc.   D2806-11   \n",
       "20335                  Section 8 (housing)    D2807-0   \n",
       "20336                  Section 8 (housing)    D2807-1   \n",
       "20337                  Section 8 (housing)    D2807-2   \n",
       "20338                  Section 8 (housing)    D2807-3   \n",
       "20339                  Section 8 (housing)    D2807-4   \n",
       "20340                  Section 8 (housing)    D2807-5   \n",
       "20341                  Section 8 (housing)    D2807-6   \n",
       "20342                  Section 8 (housing)    D2807-7   \n",
       "20343                  Section 8 (housing)    D2807-8   \n",
       "20344                  Section 8 (housing)    D2807-9   \n",
       "20345        Category:Types of restaurants    D2808-0   \n",
       "20346  History of the United States dollar    D2810-0   \n",
       "20347  History of the United States dollar    D2810-1   \n",
       "\n",
       "                                                Sentence Label  \n",
       "20333  , the company had 72,800 permanent full-time e...     0  \n",
       "20334  Its worldwide annual revenue in 2012 totalled ...     0  \n",
       "20335               Section 8 housing in the South Bronx     0  \n",
       "20336  Section 8 of the Housing Act of 1937 (), often...     1  \n",
       "20337  It operates through several programs, the larg...     1  \n",
       "20338  The US Department of Housing and Urban Develop...     0  \n",
       "20339  The Housing Choice Voucher Program provides \"t...     0  \n",
       "20340  It also allows individuals to apply their mont...     0  \n",
       "20341      The maximum allowed voucher is $2200 a month.     0  \n",
       "20342  Section 8 also authorizes a variety of \"projec...     0  \n",
       "20343  A tenant who leaves a subsidized project will ...     0  \n",
       "20344  The United States Department of Housing and Ur...     0  \n",
       "20345  Restaurants categorized by type and informatio...     0  \n",
       "20346        U.S. Federal Reserve notes in the mid-1990s     0  \n",
       "20347  The history of the United States dollar covers...     0  "
      ]
     },
     "execution_count": 5,
     "metadata": {},
     "output_type": "execute_result"
    }
   ],
   "source": [
    "df.tail(15)"
   ]
  },
  {
   "cell_type": "markdown",
   "metadata": {},
   "source": [
    "##### Looks like the data has a lot of questions with unique question IDs with multiple options for every question. Every question has one or more answer labelled as correct."
   ]
  },
  {
   "cell_type": "code",
   "execution_count": 6,
   "metadata": {},
   "outputs": [],
   "source": [
    "#### Tokenizing and lemmatizing the data"
   ]
  },
  {
   "cell_type": "code",
   "execution_count": 7,
   "metadata": {},
   "outputs": [],
   "source": [
    "data_dict = df[df['Label'] == '1'][['Question', 'Sentence']].set_index(['Question']).to_dict()"
   ]
  },
  {
   "cell_type": "code",
   "execution_count": 8,
   "metadata": {},
   "outputs": [],
   "source": [
    "sent_tokens = [i + \" \" + j for i,j in data_dict['Sentence'].items()]"
   ]
  },
  {
   "cell_type": "code",
   "execution_count": 9,
   "metadata": {},
   "outputs": [],
   "source": [
    "raw = ''\n",
    "for i in sent_tokens:\n",
    "    raw+=i + \" \""
   ]
  },
  {
   "cell_type": "code",
   "execution_count": 10,
   "metadata": {},
   "outputs": [],
   "source": [
    "word_tokens = nltk.word_tokenize(raw)"
   ]
  },
  {
   "cell_type": "code",
   "execution_count": 11,
   "metadata": {},
   "outputs": [],
   "source": [
    "## Create functions to tokenise and remove punctuations"
   ]
  },
  {
   "cell_type": "code",
   "execution_count": 12,
   "metadata": {},
   "outputs": [],
   "source": [
    "lemmer = nltk.stem.WordNetLemmatizer()\n",
    "def LemTokens(tokens):\n",
    "    return [lemmer.lemmatize(token) for token in tokens]\n",
    "remove_punct_dict = dict((ord(punct), None) for punct in string.punctuation)\n",
    "# Removing punctuations\n",
    "def LemNormalize(text):\n",
    "    return LemTokens(nltk.word_tokenize(text.lower().translate(remove_punct_dict)))"
   ]
  },
  {
   "cell_type": "markdown",
   "metadata": {},
   "source": [
    "### Approach\n",
    "##### I took a simple approach where I first ran a TF-IDF vectorizer over the entire data, alongwith the user query followed by finding the most relevant answer/question pair by finding cosine similarity between the user query and the rest of the data. The matching question/answer pair with the highest cosine score is then returned as the response of the chatbot."
   ]
  },
  {
   "cell_type": "code",
   "execution_count": 13,
   "metadata": {},
   "outputs": [],
   "source": [
    "## Creating some basic greetings"
   ]
  },
  {
   "cell_type": "code",
   "execution_count": 14,
   "metadata": {},
   "outputs": [],
   "source": [
    "GREETING_INPUTS = (\"hello\", \"hi\", \"greetings\", \"sup\", \"what's up\",\"hey\",\"Hey!\")\n",
    "GREETING_RESPONSES = [\"hi\", \"hey\", \"*nods*\", \"hi there\", \"hello\", \"I am glad! You are talking to me\"]\n",
    "def greeting(sentence):\n",
    "    for word in sentence.split():\n",
    "        if word.lower() in GREETING_INPUTS:\n",
    "            return random.choice(GREETING_RESPONSES)"
   ]
  },
  {
   "cell_type": "code",
   "execution_count": 15,
   "metadata": {},
   "outputs": [],
   "source": [
    "## The bot uses cosine similarity between the user request and the existing data.\n",
    "def response(user_response):\n",
    "    zen_response=''\n",
    "    sent_tokens.append(user_response)\n",
    "    TfidfVec = TfidfVectorizer(tokenizer=LemNormalize, stop_words='english')\n",
    "    tfidf = TfidfVec.fit_transform(sent_tokens)\n",
    "    vals = cosine_similarity(tfidf[-1], tfidf)\n",
    "    idx=vals.argsort()[0][-2]\n",
    "    flat = vals.flatten()\n",
    "    flat.sort()\n",
    "#     print(flat)\n",
    "    req_tfidf = flat[-2]\n",
    "    if(req_tfidf==0):\n",
    "        zen_response=zen_response+\"I'm sorry! I didn't get you.\"\n",
    "        return zen_response\n",
    "    else:\n",
    "        add_ = sent_tokens[idx]\n",
    "#         final_ = add_[0] + ' ' + add_[1]\n",
    "        zen_response = zen_response+add_\n",
    "        return zen_response"
   ]
  },
  {
   "cell_type": "markdown",
   "metadata": {},
   "source": [
    "## !! Make sure to enter 'bye' to exit the chatbot , don't leave him hanging. !!"
   ]
  },
  {
   "cell_type": "code",
   "execution_count": null,
   "metadata": {
    "scrolled": true
   },
   "outputs": [
    {
     "name": "stdout",
     "output_type": "stream",
     "text": [
      "Zen: My name is Zen. I would like you to stay that way too! If you want to exit, type Bye.\n",
      "what do you know about apple computer\n",
      "Zen: "
     ]
    },
    {
     "name": "stderr",
     "output_type": "stream",
     "text": [
      "/opt/anaconda3/lib/python3.7/site-packages/sklearn/feature_extraction/text.py:385: UserWarning: Your stop_words may be inconsistent with your preprocessing. Tokenizing the stop words generated tokens ['ha', 'le', 'u', 'wa'] not in stop_words.\n",
      "  'stop_words.' % sorted(inconsistent))\n"
     ]
    },
    {
     "name": "stdout",
     "output_type": "stream",
     "text": [
      "When was Apple Computer founded The company was founded on April 1, 1976, and incorporated as Apple Computer, Inc. on January 3, 1977.\n"
     ]
    }
   ],
   "source": [
    "flag=True\n",
    "print(\"Zen: My name is Zen. I would like you to stay that way too! If you want to exit, type Bye.\")\n",
    "while(flag==True):\n",
    "    user_response = input()\n",
    "    user_response=user_response.lower()\n",
    "    if(user_response!='bye' and user_response != 'Bye'):\n",
    "        if(user_response=='thanks' or user_response=='thank you' ):\n",
    "            flag=False\n",
    "            print(\"Zen: You're welcome!\")\n",
    "        else:\n",
    "            if(greeting(user_response)!=None):\n",
    "                print(\"Zen: \"+greeting(user_response))\n",
    "            else:\n",
    "                print(\"Zen: \",end=\"\")\n",
    "                print(response(user_response))\n",
    "                sent_tokens.remove(user_response)\n",
    "    else:\n",
    "        flag=False\n",
    "        print(\"Zen: Bye! take care!\")"
   ]
  },
  {
   "cell_type": "markdown",
   "metadata": {},
   "source": [
    "Given more time (and data) I would love to add to this very basic bot in the following ways:\n",
    "\n",
    "1. Add functionality to combine this with a clustering method as described in the second notebook. This would allow the bot to identify the type of request and further improve its responses. Moreover, it could help the bot re-direct the customer to the most suitable customer care agent.\n",
    "\n",
    "\n",
    "2. I would add a feature wherein the customer using the bot could rate the correctness of its responses. This data can then be used to further add to the question-answer data the bot already has, helping the bot slowly get better over time.\n",
    "\n",
    "\n",
    "3. Combine the chatbot with the clustering software submitted as the second part of this task to identify the topics to which the question belongs and suggest links to pages which could be useful to solving the queries."
   ]
  }
 ],
 "metadata": {
  "kernelspec": {
   "display_name": "Python 3",
   "language": "python",
   "name": "python3"
  },
  "language_info": {
   "codemirror_mode": {
    "name": "ipython",
    "version": 3
   },
   "file_extension": ".py",
   "mimetype": "text/x-python",
   "name": "python",
   "nbconvert_exporter": "python",
   "pygments_lexer": "ipython3",
   "version": "3.7.4"
  }
 },
 "nbformat": 4,
 "nbformat_minor": 2
}
